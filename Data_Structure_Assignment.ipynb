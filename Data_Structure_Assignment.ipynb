{
  "nbformat": 4,
  "nbformat_minor": 0,
  "metadata": {
    "colab": {
      "provenance": []
    },
    "kernelspec": {
      "name": "python3",
      "display_name": "Python 3"
    },
    "language_info": {
      "name": "python"
    }
  },
  "cells": [
    {
      "cell_type": "markdown",
      "source": [
        "# **Assignment**\n",
        "# **Data Structure**"
      ],
      "metadata": {
        "id": "3irg65aIfpm5"
      }
    },
    {
      "cell_type": "markdown",
      "source": [
        "# **1. Discuss string slicing and provide examples**\n",
        "\n",
        "Ans - String slicing is a powerful feature in Python that allows you to extract parts (or \"slices\") of a string based on specified indices.\n",
        "Examples are below\n",
        "\n"
      ],
      "metadata": {
        "id": "6EFsRM1Gvg_j"
      }
    },
    {
      "cell_type": "code",
      "source": [
        "#Examples\n",
        "\n",
        "name = \"Naam_hai_Siddhu!\"\n",
        "print(name[0:5])"
      ],
      "metadata": {
        "colab": {
          "base_uri": "https://localhost:8080/"
        },
        "id": "Wt6EB57rvnSc",
        "outputId": "16cc4953-9701-4fa2-f399-4177b99dae6d"
      },
      "execution_count": 17,
      "outputs": [
        {
          "output_type": "stream",
          "name": "stdout",
          "text": [
            "Naam_\n"
          ]
        }
      ]
    },
    {
      "cell_type": "code",
      "source": [
        "name = \"Naam_hai_Siddhu!\"\n",
        "print(name[:5]) #it will print from starting i.e from 0 to the 4th\n",
        "print(name[7:]) #it will print from 7th and above till the end\n",
        "print(name[:])  #it will print all the text"
      ],
      "metadata": {
        "colab": {
          "base_uri": "https://localhost:8080/"
        },
        "id": "m-R76PJGwc4T",
        "outputId": "15f9498c-9c86-451f-afa1-8c6cb7cd2e96"
      },
      "execution_count": 18,
      "outputs": [
        {
          "output_type": "stream",
          "name": "stdout",
          "text": [
            "Naam_\n",
            "i_Siddhu!\n",
            "Naam_hai_Siddhu!\n"
          ]
        }
      ]
    },
    {
      "cell_type": "code",
      "source": [
        "#Using Negative Indices:\n",
        "\n",
        "name = \"Naam_hai_Siddhu!\"\n",
        "print(name[-6:])  # it will print the last 6 characters\n",
        "print(name[:-2])  # it will print all the characters except last 2"
      ],
      "metadata": {
        "colab": {
          "base_uri": "https://localhost:8080/"
        },
        "id": "Oa9HJ-2Tw0RD",
        "outputId": "5d63d8b6-4294-4cc8-d73b-40cb0ee98e96"
      },
      "execution_count": 19,
      "outputs": [
        {
          "output_type": "stream",
          "name": "stdout",
          "text": [
            "iddhu!\n",
            "Naam_hai_Siddh\n"
          ]
        }
      ]
    },
    {
      "cell_type": "code",
      "source": [
        "name = \"Naam_hai_Siddhu!\"\n",
        "print(name[::2])\n",
        "print(name[::-1])"
      ],
      "metadata": {
        "colab": {
          "base_uri": "https://localhost:8080/"
        },
        "id": "nEWrVILOxoFC",
        "outputId": "33a6c231-fc94-44b3-936a-6881dff14734"
      },
      "execution_count": 21,
      "outputs": [
        {
          "output_type": "stream",
          "name": "stdout",
          "text": [
            "Na_a_idu\n",
            "!uhddiS_iah_maaN\n"
          ]
        }
      ]
    },
    {
      "cell_type": "markdown",
      "source": [
        "# **2. Explain the key features of lists in Python**\n",
        "\n",
        "Ans - Ordered, mutable collections of elements. Think of shopping lists or task lists. Lists can hold items of various data types (numbers, strings, even other lists!). Lists are mutable and are one of the most commonly used data structures in Python, offering a flexible and versatile way to store and manipulate a collection of items. Lists can contain heterogeneous data (Mix Data)"
      ],
      "metadata": {
        "id": "DyIQF8taz11_"
      }
    },
    {
      "cell_type": "code",
      "source": [
        "#Examples\n",
        "\n",
        "tennis_score = [10, 20, 30]\n",
        "tennis_score[0]"
      ],
      "metadata": {
        "colab": {
          "base_uri": "https://localhost:8080/"
        },
        "id": "I5gS95kMyh8N",
        "outputId": "146b20a4-20f9-48f6-9974-51e72edfafc8"
      },
      "execution_count": 24,
      "outputs": [
        {
          "output_type": "execute_result",
          "data": {
            "text/plain": [
              "10"
            ]
          },
          "metadata": {},
          "execution_count": 24
        }
      ]
    },
    {
      "cell_type": "code",
      "source": [
        "tennis_score = [1, 2, 3]\n",
        "tennis_score[1] = 6  # it will Modify the second element\n",
        "print(tennis_score)"
      ],
      "metadata": {
        "colab": {
          "base_uri": "https://localhost:8080/"
        },
        "id": "U0daJng90WW5",
        "outputId": "1ed53dd1-69eb-40cf-af79-0148738aa3d7"
      },
      "execution_count": 27,
      "outputs": [
        {
          "output_type": "stream",
          "name": "stdout",
          "text": [
            "[1, 6, 3]\n"
          ]
        }
      ]
    },
    {
      "cell_type": "code",
      "source": [
        "#using append method\n",
        "\n",
        "tennis_score = [1, 2]\n",
        "tennis_score.append(56)  # it will Add an element to the last\n",
        "print(tennis_score)"
      ],
      "metadata": {
        "colab": {
          "base_uri": "https://localhost:8080/"
        },
        "id": "wFsHLq-72pZo",
        "outputId": "2ec22ee5-ba53-4eaf-c252-bf8b326b06be"
      },
      "execution_count": 33,
      "outputs": [
        {
          "output_type": "stream",
          "name": "stdout",
          "text": [
            "[1, 2, 56]\n"
          ]
        }
      ]
    },
    {
      "cell_type": "code",
      "source": [
        "#Heterogeneous\n",
        "\n",
        "tennis_score = [1, \"tennis\", 3.14, [10, 20]]\n",
        "print(tennis_score)"
      ],
      "metadata": {
        "colab": {
          "base_uri": "https://localhost:8080/"
        },
        "id": "Wd9G0YyV3ZKy",
        "outputId": "0f8eb8ac-18fa-4a34-df32-da1fdede7534"
      },
      "execution_count": 38,
      "outputs": [
        {
          "output_type": "stream",
          "name": "stdout",
          "text": [
            "[1, 'tennis', 3.14, [10, 20]]\n"
          ]
        }
      ]
    },
    {
      "cell_type": "code",
      "source": [
        "#Indexing and Slicing\n",
        "\n",
        "tennis_score = [10, 20, 30, 40]\n",
        "print(tennis_score[1])\n",
        "print(tennis_score[-1])\n",
        "print(tennis_score[1:3]) #slicing"
      ],
      "metadata": {
        "colab": {
          "base_uri": "https://localhost:8080/"
        },
        "id": "iMLL28Hv3ixe",
        "outputId": "95060f3b-f089-4ad2-898d-fa9a6b540565"
      },
      "execution_count": 40,
      "outputs": [
        {
          "output_type": "stream",
          "name": "stdout",
          "text": [
            "20\n",
            "40\n",
            "[20, 30]\n"
          ]
        }
      ]
    },
    {
      "cell_type": "code",
      "source": [
        "#Iteration\n",
        "\n",
        "tennis_score = [1, 2, 3]\n",
        "for i in tennis_score:\n",
        "    print(i)"
      ],
      "metadata": {
        "colab": {
          "base_uri": "https://localhost:8080/"
        },
        "id": "R5_ycyxV5h5A",
        "outputId": "7c52d1a4-d954-4804-e8c9-79575ecbbc35"
      },
      "execution_count": 42,
      "outputs": [
        {
          "output_type": "stream",
          "name": "stdout",
          "text": [
            "1\n",
            "2\n",
            "3\n"
          ]
        }
      ]
    },
    {
      "cell_type": "code",
      "source": [
        "tennis_score = [\"love_all\", \"deuce\", \"match_point\"]\n",
        "for i in tennis_score:\n",
        "    print(i)"
      ],
      "metadata": {
        "colab": {
          "base_uri": "https://localhost:8080/"
        },
        "id": "UlXrEy487vES",
        "outputId": "a9cb4f43-0411-4a58-ab4a-3cba56d6ad30"
      },
      "execution_count": 44,
      "outputs": [
        {
          "output_type": "stream",
          "name": "stdout",
          "text": [
            "love_all\n",
            "deuce\n",
            "match_point\n"
          ]
        }
      ]
    },
    {
      "cell_type": "code",
      "source": [
        "#Nested Lists\n",
        "\n",
        "nested_list = [[1, 2], [3, 4], [5, 6]]\n",
        "print(nested_list[1]) #it will print 1st element\n",
        "print(nested_list[0][1]) #it will print 1st element from the 0th element"
      ],
      "metadata": {
        "colab": {
          "base_uri": "https://localhost:8080/"
        },
        "id": "UOvFMVGG8Va0",
        "outputId": "95342c79-7869-4a93-9815-476201880eb9"
      },
      "execution_count": 52,
      "outputs": [
        {
          "output_type": "stream",
          "name": "stdout",
          "text": [
            "[3, 4]\n",
            "2\n"
          ]
        }
      ]
    },
    {
      "cell_type": "code",
      "source": [
        "#Adding Elements\n",
        "\n",
        "tennis_score = [1, 2,4,5,6,7]\n",
        "tennis_score.append(3) #append function (it will add element to the last)\n",
        "print(tennis_score)\n",
        "tennis_score.insert(4,23)\n",
        "print(tennis_score)"
      ],
      "metadata": {
        "colab": {
          "base_uri": "https://localhost:8080/"
        },
        "id": "Ib04I1zl8YMS",
        "outputId": "1aaf5ede-4622-4b21-dc17-19e2a3063db6"
      },
      "execution_count": 65,
      "outputs": [
        {
          "output_type": "stream",
          "name": "stdout",
          "text": [
            "[1, 2, 4, 5, 6, 7, 3]\n",
            "[1, 2, 4, 5, 23, 6, 7, 3]\n"
          ]
        }
      ]
    },
    {
      "cell_type": "code",
      "source": [
        "#Removing Elements\n",
        "\n",
        "tennis_score = [1, 2, 3]\n",
        "tennis_score.remove(2)   # Removes the first occurrence of 2\n",
        "tennis_score"
      ],
      "metadata": {
        "colab": {
          "base_uri": "https://localhost:8080/"
        },
        "id": "SVSqY3JI9R2R",
        "outputId": "a05e52ab-785c-43d1-a1fb-21f1dcc9d2a8"
      },
      "execution_count": 78,
      "outputs": [
        {
          "output_type": "execute_result",
          "data": {
            "text/plain": [
              "[1, 3]"
            ]
          },
          "metadata": {},
          "execution_count": 78
        }
      ]
    },
    {
      "cell_type": "code",
      "source": [
        "popped = tennis_score.pop()  # Removes and returns the last element\n",
        "print(tennis_score)\n",
        "print(popped)"
      ],
      "metadata": {
        "colab": {
          "base_uri": "https://localhost:8080/"
        },
        "id": "eUhNLV2o-mmv",
        "outputId": "ae062ce3-7485-4b8b-c6f6-c6d480bf44b8"
      },
      "execution_count": 79,
      "outputs": [
        {
          "output_type": "stream",
          "name": "stdout",
          "text": [
            "[1]\n",
            "3\n"
          ]
        }
      ]
    },
    {
      "cell_type": "code",
      "source": [
        "#Sorting\n",
        "\n",
        "tennis_score = [3, 1, 2, 14, 78, 67]\n",
        "tennis_score.sort()      # Sorts the list in ascending order\n",
        "print(tennis_score)\n"
      ],
      "metadata": {
        "colab": {
          "base_uri": "https://localhost:8080/"
        },
        "id": "uXb-If2E-3kQ",
        "outputId": "e1970dc5-bc8b-4b79-a46b-015f376f0ab9"
      },
      "execution_count": 81,
      "outputs": [
        {
          "output_type": "stream",
          "name": "stdout",
          "text": [
            "[1, 2, 3, 14, 67, 78]\n"
          ]
        }
      ]
    },
    {
      "cell_type": "code",
      "source": [
        "#List Comprehensions\n",
        "\n",
        "squares = [x**2 for x in range(5)]\n",
        "print(squares)"
      ],
      "metadata": {
        "colab": {
          "base_uri": "https://localhost:8080/"
        },
        "id": "dUdE_07o_ktV",
        "outputId": "8c75695d-26da-4bc0-afc4-92a95e8f8b28"
      },
      "execution_count": 84,
      "outputs": [
        {
          "output_type": "stream",
          "name": "stdout",
          "text": [
            "[0, 1, 4, 9, 16]\n"
          ]
        }
      ]
    },
    {
      "cell_type": "markdown",
      "source": [
        "## **3. Describe how to access, modify, and delete elements in a list with examples**\n",
        "\n",
        "Ans - Python lists allow easy access, modification, and deletion of elements using indexing, slicing, and built-in methods, I have already defined many examples in the above questions.\n",
        "\n"
      ],
      "metadata": {
        "id": "sA0FBds9AJH3"
      }
    },
    {
      "cell_type": "code",
      "source": [
        "#Examples\n",
        "tennis_score = [10, 20, 30, 40, 50]\n",
        "\n",
        "# Accessing elements using positive indices\n",
        "print(tennis_score[0])\n",
        "print(tennis_score[2])\n",
        "\n",
        "# Accessing elements using negative indices\n",
        "print(tennis_score[-1])\n",
        "print(tennis_score[-3])\n",
        "\n",
        "# Accessing a range of elements using slicing\n",
        "print(tennis_score[1:4])\n",
        "\n",
        "# Accessing every second element\n",
        "print(tennis_score[::2])"
      ],
      "metadata": {
        "colab": {
          "base_uri": "https://localhost:8080/"
        },
        "id": "n4umpV-__zDv",
        "outputId": "2d01bf19-1dbd-4871-9a45-6bfb7209eb41"
      },
      "execution_count": 87,
      "outputs": [
        {
          "output_type": "stream",
          "name": "stdout",
          "text": [
            "10\n",
            "30\n",
            "50\n",
            "30\n",
            "[20, 30, 40]\n",
            "[10, 30, 50]\n"
          ]
        }
      ]
    },
    {
      "cell_type": "code",
      "source": [
        "# Modifying Elements in a List\n",
        "# Lists are mutable, so you can change their content by assigning new values to specific elements or ranges.\n",
        "\n",
        "# Examples\n",
        "tennis_score = [10, 20, 30, 40, 50]\n",
        "\n",
        "# Modifying a single element\n",
        "tennis_score[1] = 25\n",
        "print(tennis_score)\n",
        "\n",
        "# Modifying multiple elements using slicing\n",
        "tennis_score[2:4] = [35, 45]\n",
        "print(tennis_score)\n",
        "\n",
        "# Replacing a range with a different number of elements\n",
        "tennis_score[1:3] = [15, 55, 65]\n",
        "print(tennis_score)"
      ],
      "metadata": {
        "colab": {
          "base_uri": "https://localhost:8080/"
        },
        "id": "u0ZCsOIbA4BW",
        "outputId": "a2e810ad-3944-475f-8055-ffa752fe1914"
      },
      "execution_count": 89,
      "outputs": [
        {
          "output_type": "stream",
          "name": "stdout",
          "text": [
            "[10, 25, 30, 40, 50]\n",
            "[10, 25, 35, 45, 50]\n",
            "[10, 15, 55, 65, 45, 50]\n"
          ]
        }
      ]
    },
    {
      "cell_type": "code",
      "source": [
        "# Deleting Elements in a List\n",
        "# using del function\n",
        "# Examples\n",
        "tennis_score = [10, 20, 30, 40, 50]\n",
        "\n",
        "# Deleting a single element\n",
        "del tennis_score[2]\n",
        "print(tennis_score)\n",
        "\n",
        "# Deleting a range of elements\n",
        "del tennis_score[1:3]\n",
        "print(tennis_score)"
      ],
      "metadata": {
        "colab": {
          "base_uri": "https://localhost:8080/"
        },
        "id": "g16ldedMBgOo",
        "outputId": "a3c8de7f-6c82-4fcf-b1a8-84d6e719dada"
      },
      "execution_count": 90,
      "outputs": [
        {
          "output_type": "stream",
          "name": "stdout",
          "text": [
            "[10, 20, 40, 50]\n",
            "[10, 50]\n"
          ]
        }
      ]
    },
    {
      "cell_type": "code",
      "source": [
        "#using .remove\n",
        "\n",
        "# Examples\n",
        "tennis_score = [10, 20, 30, 40, 50]\n",
        "\n",
        "# Remove the first occurrence of a value\n",
        "tennis_score.remove(40)\n",
        "print(tennis_score) # If the value does not exist, it raises a `ValueError`"
      ],
      "metadata": {
        "colab": {
          "base_uri": "https://localhost:8080/"
        },
        "id": "RDpkqwX5COjd",
        "outputId": "6f88bf6a-e14e-4c1c-b65f-910bbd8ed08a"
      },
      "execution_count": 97,
      "outputs": [
        {
          "output_type": "stream",
          "name": "stdout",
          "text": [
            "[10, 20, 30, 50]\n"
          ]
        }
      ]
    },
    {
      "cell_type": "code",
      "source": [
        "# Example List\n",
        "tennis_score = [10, 20, 30, 40, 50]\n",
        "\n",
        "# Remove and return an element by index\n",
        "removed_element = tennis_score.pop(1)\n",
        "print(removed_element)\n",
        "print(tennis_score)\n",
        "\n",
        "# Pop the last element (default behavior)\n",
        "last_element = tennis_score.pop()\n",
        "print(last_element)\n",
        "print(tennis_score)"
      ],
      "metadata": {
        "colab": {
          "base_uri": "https://localhost:8080/"
        },
        "id": "OlUkHTBcDhbH",
        "outputId": "2790a05c-a0be-4cf1-fd1e-f6f746b697b8"
      },
      "execution_count": 99,
      "outputs": [
        {
          "output_type": "stream",
          "name": "stdout",
          "text": [
            "20\n",
            "[10, 30, 40, 50]\n",
            "50\n",
            "[10, 30, 40]\n"
          ]
        }
      ]
    },
    {
      "cell_type": "code",
      "source": [
        "# Example List\n",
        "tennis_score = [10, 20, 30, 40, 50]\n",
        "\n",
        "# Remove all elements\n",
        "tennis_score.clear()\n",
        "tennis_score"
      ],
      "metadata": {
        "colab": {
          "base_uri": "https://localhost:8080/"
        },
        "id": "evGT1N2mEMDe",
        "outputId": "81795666-1eee-466d-fa29-0c8f518fd015"
      },
      "execution_count": 102,
      "outputs": [
        {
          "output_type": "execute_result",
          "data": {
            "text/plain": [
              "[]"
            ]
          },
          "metadata": {},
          "execution_count": 102
        }
      ]
    },
    {
      "cell_type": "markdown",
      "source": [
        "# **4. Compare and contrast tuples and lists with examples**\n",
        "\n",
        "Ans - Key Differences\n",
        "\n",
        "**Mutability**:\n",
        "\n",
        "**Lists**: Can be modified after creation by adding, removing, or updating elements.\n",
        "\n",
        "**Tuples**: Cannot be modified once created. If you need to make changes, you must create a new tuple.\n"
      ],
      "metadata": {
        "id": "vliaySMKE1Eh"
      }
    },
    {
      "cell_type": "code",
      "source": [
        "# examples\n",
        "\n",
        "my_list = [1, 2, 3]\n",
        "my_list[0] = 10  # Modify the first element\n",
        "print(my_list)   # Output: [10, 2, 3]\n",
        "\n",
        "# Tuple example\n",
        "my_tuple = (1, 2, 3)\n",
        "my_tuple[0] = 78\n",
        "# my_tuple[0] = 78  # This will raise a TypeError (tuples are immutable)"
      ],
      "metadata": {
        "colab": {
          "base_uri": "https://localhost:8080/",
          "height": 211
        },
        "id": "xstGX4tDEsiY",
        "outputId": "38ea2b36-5c36-42d1-ab32-e234822c472d"
      },
      "execution_count": 108,
      "outputs": [
        {
          "output_type": "stream",
          "name": "stdout",
          "text": [
            "[10, 2, 3]\n"
          ]
        },
        {
          "output_type": "error",
          "ename": "TypeError",
          "evalue": "'tuple' object does not support item assignment",
          "traceback": [
            "\u001b[0;31m---------------------------------------------------------------------------\u001b[0m",
            "\u001b[0;31mTypeError\u001b[0m                                 Traceback (most recent call last)",
            "\u001b[0;32m<ipython-input-108-0879b352f2c9>\u001b[0m in \u001b[0;36m<cell line: 9>\u001b[0;34m()\u001b[0m\n\u001b[1;32m      7\u001b[0m \u001b[0;31m# Tuple example\u001b[0m\u001b[0;34m\u001b[0m\u001b[0;34m\u001b[0m\u001b[0m\n\u001b[1;32m      8\u001b[0m \u001b[0mmy_tuple\u001b[0m \u001b[0;34m=\u001b[0m \u001b[0;34m(\u001b[0m\u001b[0;36m1\u001b[0m\u001b[0;34m,\u001b[0m \u001b[0;36m2\u001b[0m\u001b[0;34m,\u001b[0m \u001b[0;36m3\u001b[0m\u001b[0;34m)\u001b[0m\u001b[0;34m\u001b[0m\u001b[0;34m\u001b[0m\u001b[0m\n\u001b[0;32m----> 9\u001b[0;31m \u001b[0mmy_tuple\u001b[0m\u001b[0;34m[\u001b[0m\u001b[0;36m0\u001b[0m\u001b[0;34m]\u001b[0m \u001b[0;34m=\u001b[0m \u001b[0;36m78\u001b[0m\u001b[0;34m\u001b[0m\u001b[0;34m\u001b[0m\u001b[0m\n\u001b[0m\u001b[1;32m     10\u001b[0m \u001b[0;31m# my_tuple[0] = 78  # This will raise a TypeError (tuples are immutable)\u001b[0m\u001b[0;34m\u001b[0m\u001b[0;34m\u001b[0m\u001b[0m\n",
            "\u001b[0;31mTypeError\u001b[0m: 'tuple' object does not support item assignment"
          ]
        }
      ]
    },
    {
      "cell_type": "markdown",
      "source": [
        "**Syntax:** - Lists are created with square brackets [], while tuples are created with parentheses ()."
      ],
      "metadata": {
        "id": "ReZt-NWfGbyX"
      }
    },
    {
      "cell_type": "code",
      "source": [
        "#example\n",
        "my_list = [1, 2, 3]\n",
        "my_tuple = (1, 2, 3)"
      ],
      "metadata": {
        "id": "703-9YMRGjVA"
      },
      "execution_count": 110,
      "outputs": []
    },
    {
      "cell_type": "markdown",
      "source": [
        "**Methods:** - Lists have a wide range of methods (e.g., .append(), .remove(), .sort()).\n",
        "\n",
        "Tuples have only two methods: .count() and .index()."
      ],
      "metadata": {
        "id": "kwGE7M0VGtY3"
      }
    },
    {
      "cell_type": "code",
      "source": [
        "# List methods\n",
        "my_list = [1, 2, 3]\n",
        "my_list.append(4)\n",
        "print(my_list)\n",
        "\n",
        "# Tuple methods\n",
        "my_tuple = (1, 2, 3, 2)\n",
        "print(my_tuple.count(2))\n",
        "print(my_tuple.index(2))"
      ],
      "metadata": {
        "colab": {
          "base_uri": "https://localhost:8080/"
        },
        "id": "H0K78yaGF8fq",
        "outputId": "0e947040-6652-4e6d-c7a3-e22f7092467c"
      },
      "execution_count": 113,
      "outputs": [
        {
          "output_type": "stream",
          "name": "stdout",
          "text": [
            "[1, 2, 3, 4]\n",
            "2\n",
            "1\n"
          ]
        }
      ]
    },
    {
      "cell_type": "markdown",
      "source": [
        "**Both Support Iteration:**\n",
        "You can iterate over both lists and tuples using loops.\n"
      ],
      "metadata": {
        "id": "HW_Q_zWDHN07"
      }
    },
    {
      "cell_type": "code",
      "source": [
        "for i in [1, 2, 3]: #list\n",
        "    print(i)\n",
        "\n",
        "for i in (4, 5, 6): #tuple\n",
        "    print(i)"
      ],
      "metadata": {
        "colab": {
          "base_uri": "https://localhost:8080/"
        },
        "id": "pJDn0wdaG8UY",
        "outputId": "3ee9e0dd-81d5-4f6a-b581-d683b7f59a6e"
      },
      "execution_count": 116,
      "outputs": [
        {
          "output_type": "stream",
          "name": "stdout",
          "text": [
            "1\n",
            "2\n",
            "3\n",
            "4\n",
            "5\n",
            "6\n"
          ]
        }
      ]
    },
    {
      "cell_type": "markdown",
      "source": [
        "**Can Contain Mixed or hererogenius Data Types:** - Both can store elements of different types, including other lists or tuples.\n"
      ],
      "metadata": {
        "id": "88k3VAysHmJQ"
      }
    },
    {
      "cell_type": "code",
      "source": [
        "my_list = [1, \"hello\", 3.5, [4, 5]]\n",
        "my_tuple = (1, \"hello\", 3.5, (4, 5))"
      ],
      "metadata": {
        "id": "NryLKlA3HcIt"
      },
      "execution_count": 117,
      "outputs": []
    },
    {
      "cell_type": "markdown",
      "source": [
        "# **5. Describe the key features of sets and provide examples of their use**\n",
        "\n",
        "Ans - Unordered collections of unique elements. The order doesn't matter, and duplicate entries are not allowed. Sets are useful for checking membership (if an item exists) or finding the intersection/difference between sets. Sets are particularly useful for operations involving membership testing, duplicates removal, and mathematical operations like union, intersection, and difference."
      ],
      "metadata": {
        "id": "qzO4Wd9MIPAF"
      }
    },
    {
      "cell_type": "code",
      "source": [
        "# Examples\n",
        "\n",
        "# Creating a set\n",
        "my_set = {1, 2, 3, 4}\n",
        "print(my_set)\n",
        "\n",
        "# Creating an empty set\n",
        "empty_set = set()\n",
        "print(empty_set)"
      ],
      "metadata": {
        "colab": {
          "base_uri": "https://localhost:8080/"
        },
        "id": "lfW7MpIDHzSd",
        "outputId": "0766180c-b3f6-4393-e3d8-dde4ee0abdde"
      },
      "execution_count": 119,
      "outputs": [
        {
          "output_type": "stream",
          "name": "stdout",
          "text": [
            "{1, 2, 3, 4}\n",
            "set()\n"
          ]
        }
      ]
    },
    {
      "cell_type": "code",
      "source": [
        "# Removing duplicates from a list\n",
        "my_list = [1, 2, 2, 3, 4, 4, 5]\n",
        "unique_set = set(my_list)\n",
        "print(unique_set)"
      ],
      "metadata": {
        "colab": {
          "base_uri": "https://localhost:8080/"
        },
        "id": "vRKUUQE0I0gY",
        "outputId": "44d4070a-cd57-486d-8194-12b2f0a45187"
      },
      "execution_count": 120,
      "outputs": [
        {
          "output_type": "stream",
          "name": "stdout",
          "text": [
            "{1, 2, 3, 4, 5}\n"
          ]
        }
      ]
    },
    {
      "cell_type": "code",
      "source": [
        "#Adding and Removing Elements\n",
        "# Examples\n",
        "my_set = {10, 20, 30}\n",
        "\n",
        "# Adding elements\n",
        "my_set.add(40)\n",
        "print(my_set)\n",
        "\n",
        "# Removing elements\n",
        "my_set.remove(20)\n",
        "print(my_set)\n",
        "\n",
        "# Discard (does not raise an error if element is not present)\n",
        "my_set.discard(30)\n",
        "my_set"
      ],
      "metadata": {
        "colab": {
          "base_uri": "https://localhost:8080/"
        },
        "id": "3-eA-K2II4jm",
        "outputId": "68d96e47-270a-4909-a613-bcf4ec4bb888"
      },
      "execution_count": 125,
      "outputs": [
        {
          "output_type": "stream",
          "name": "stdout",
          "text": [
            "{40, 10, 20, 30}\n",
            "{40, 10, 30}\n"
          ]
        },
        {
          "output_type": "execute_result",
          "data": {
            "text/plain": [
              "{10, 40}"
            ]
          },
          "metadata": {},
          "execution_count": 125
        }
      ]
    },
    {
      "cell_type": "code",
      "source": [
        "# Set Operations\n",
        "set1 = {1, 2, 3}\n",
        "set2 = {3, 4, 5}\n",
        "print(set1 | set2)"
      ],
      "metadata": {
        "colab": {
          "base_uri": "https://localhost:8080/"
        },
        "id": "gbBjS9tVJEwa",
        "outputId": "da9321f8-526d-4adf-852c-bd298facd05a"
      },
      "execution_count": 127,
      "outputs": [
        {
          "output_type": "stream",
          "name": "stdout",
          "text": [
            "{1, 2, 3, 4, 5}\n"
          ]
        }
      ]
    },
    {
      "cell_type": "markdown",
      "source": [
        "**Intersection: Finds common elements in both sets.**"
      ],
      "metadata": {
        "id": "UOaDU0wTJ0gN"
      }
    },
    {
      "cell_type": "code",
      "source": [
        "set1 = {1, 2, 3} #Intersection\n",
        "set2 = {3, 4, 5}\n",
        "print(set1 & set2)"
      ],
      "metadata": {
        "colab": {
          "base_uri": "https://localhost:8080/"
        },
        "id": "r0UND250JuVk",
        "outputId": "ef3694ff-66de-4d30-96a8-a2798f27d955"
      },
      "execution_count": 131,
      "outputs": [
        {
          "output_type": "stream",
          "name": "stdout",
          "text": [
            "{3}\n"
          ]
        }
      ]
    },
    {
      "cell_type": "code",
      "source": [
        "set1 = {1, 2, 3} #Difference\n",
        "set2 = {3, 4, 5}\n",
        "print(set1 - set2)"
      ],
      "metadata": {
        "colab": {
          "base_uri": "https://localhost:8080/"
        },
        "id": "pl6yiig8J3CR",
        "outputId": "e51ac43d-2619-4452-9bfc-c50526e69f79"
      },
      "execution_count": 133,
      "outputs": [
        {
          "output_type": "stream",
          "name": "stdout",
          "text": [
            "{1, 2}\n"
          ]
        }
      ]
    },
    {
      "cell_type": "code",
      "source": [
        "set1 = {1, 2, 3} #Symmetric Difference:\n",
        "set2 = {3, 4, 5}\n",
        "print(set1 ^ set2)"
      ],
      "metadata": {
        "colab": {
          "base_uri": "https://localhost:8080/"
        },
        "id": "lnSGwjEzKSEr",
        "outputId": "1c129c22-7378-4516-d2e4-f0848a29517c"
      },
      "execution_count": 134,
      "outputs": [
        {
          "output_type": "stream",
          "name": "stdout",
          "text": [
            "{1, 2, 4, 5}\n"
          ]
        }
      ]
    },
    {
      "cell_type": "code",
      "source": [
        "# Iterating Through a Set\n",
        "\n",
        "my_set = {10, 20, 30, 40}\n",
        "for element in my_set:\n",
        "    print(element)"
      ],
      "metadata": {
        "colab": {
          "base_uri": "https://localhost:8080/"
        },
        "id": "FKZUdvwTKa3i",
        "outputId": "c8c0e326-bc09-45bd-9ff4-8b35643c87a9"
      },
      "execution_count": 140,
      "outputs": [
        {
          "output_type": "stream",
          "name": "stdout",
          "text": [
            "40\n",
            "10\n",
            "20\n",
            "30\n"
          ]
        }
      ]
    },
    {
      "cell_type": "markdown",
      "source": [
        "# **6. Discuss the use cases of tuples and sets in Python programming**\n",
        "\n",
        "Ans - Tuples and sets are both important data structures in Python, but they serve different purposes based on their properties.\n",
        "\n",
        "**Use Cases of Tuples**\n",
        "\n",
        "Tuples are immutable and ordered collections, which makes them ideal for scenarios where data should remain constant and its order is significant."
      ],
      "metadata": {
        "id": "KJ0e1N6vLhWx"
      }
    },
    {
      "cell_type": "code",
      "source": [
        "# Fixed or Immutable Data\n",
        "#Tuples are used when the data should not change after creation.\n",
        "\n",
        "# Example: Storing coordinates\n",
        "coordinates = (10.5, 20.3)"
      ],
      "metadata": {
        "id": "br1Qm4E-Kt_E"
      },
      "execution_count": 141,
      "outputs": []
    },
    {
      "cell_type": "code",
      "source": [
        "# Dictionary Keys\n",
        "# Tuples are hashable (unlike lists) and can be used as keys in dictionaries.\n",
        "\n",
        "# Example: Using tuples as dictionary keys\n",
        "data = {(\"John\", \"Doe\"): \"Developer\", (\"Jane\", \"Smith\"): \"Designer\"}\n",
        "print(data[(\"John\", \"Doe\")])"
      ],
      "metadata": {
        "colab": {
          "base_uri": "https://localhost:8080/"
        },
        "id": "i6s37EekMTs9",
        "outputId": "726ad8c5-80c2-4f03-8f0d-1b7623e15996"
      },
      "execution_count": 143,
      "outputs": [
        {
          "output_type": "stream",
          "name": "stdout",
          "text": [
            "Developer\n"
          ]
        }
      ]
    },
    {
      "cell_type": "code",
      "source": [
        "#Returning Multiple Values from Functions\n",
        "#Tuples allow a function to return multiple values in a single return statement.\n",
        "\n",
        "def calculate(a, b):\n",
        "    return a + b, a * b\n",
        "\n",
        "result = calculate(3, 4)\n",
        "print(result)"
      ],
      "metadata": {
        "colab": {
          "base_uri": "https://localhost:8080/"
        },
        "id": "rgvVFipJMd8m",
        "outputId": "2e58fb57-b47f-4196-e359-397b02dcb04a"
      },
      "execution_count": 146,
      "outputs": [
        {
          "output_type": "stream",
          "name": "stdout",
          "text": [
            "(7, 12)\n"
          ]
        }
      ]
    },
    {
      "cell_type": "code",
      "source": [
        "# Grouping Data\n",
        "#Tuples are ideal for grouping related pieces of data, such as rows in a database or objects in a program.\n",
        "\n",
        "# Example: Representing a database record\n",
        "student = (\"Alice\", 22, \"Computer Science\")\n",
        "print(student[1])"
      ],
      "metadata": {
        "colab": {
          "base_uri": "https://localhost:8080/"
        },
        "id": "FfKbKpk0MqnX",
        "outputId": "c3c4c5ac-fd77-411b-82c4-be53db1dfcae"
      },
      "execution_count": 149,
      "outputs": [
        {
          "output_type": "stream",
          "name": "stdout",
          "text": [
            "22\n"
          ]
        }
      ]
    },
    {
      "cell_type": "code",
      "source": [
        "# Removing Duplicates\n",
        "# Sets automatically discard duplicate values, making them useful for cleaning data.\n",
        "\n",
        "items = [1, 2, 2, 3, 4, 4]\n",
        "unique_items = set(items)\n",
        "print(unique_items)"
      ],
      "metadata": {
        "colab": {
          "base_uri": "https://localhost:8080/"
        },
        "id": "qefpMrv7M4YX",
        "outputId": "cc5cdcf5-8e53-4fd3-c52f-a0eb1ae2ed8d"
      },
      "execution_count": 152,
      "outputs": [
        {
          "output_type": "stream",
          "name": "stdout",
          "text": [
            "{1, 2, 3, 4}\n"
          ]
        }
      ]
    },
    {
      "cell_type": "code",
      "source": [
        "# Mathematical Set Operations\n",
        "# Sets are commonly used for operations like union, intersection, and difference.\n",
        "\n",
        "set1 = {1, 2, 3}\n",
        "set2 = {3, 4, 5}\n",
        "\n",
        "print(set1 | set2)  # Union\n",
        "print(set1 & set2)  # Intersection\n",
        "print(set1 - set2)  # Difference"
      ],
      "metadata": {
        "colab": {
          "base_uri": "https://localhost:8080/"
        },
        "id": "3TU_QbVqNI9Q",
        "outputId": "b4d70da9-5b6f-4d0e-be5e-6fab0eb4d4d8"
      },
      "execution_count": 154,
      "outputs": [
        {
          "output_type": "stream",
          "name": "stdout",
          "text": [
            "{1, 2, 3, 4, 5}\n",
            "{3}\n",
            "{1, 2}\n"
          ]
        }
      ]
    },
    {
      "cell_type": "code",
      "source": [
        "# Eliminating Common Elements\n",
        "# Sets are useful for removing overlapping data between two collections.\n",
        "\n",
        "# Symmetric difference\n",
        "set1 = {1, 2, 3}\n",
        "set2 = {2, 3, 4}\n",
        "\n",
        "print(set1 ^ set2)"
      ],
      "metadata": {
        "colab": {
          "base_uri": "https://localhost:8080/"
        },
        "id": "X6GVRkhSNT-J",
        "outputId": "8e2fc463-fcbd-49f6-e874-f7034c8002cc"
      },
      "execution_count": 155,
      "outputs": [
        {
          "output_type": "stream",
          "name": "stdout",
          "text": [
            "{1, 4}\n"
          ]
        }
      ]
    },
    {
      "cell_type": "code",
      "source": [
        "# Storing Unique Items\n",
        "# Use sets when you want to ensure that the collection contains only unique values.\n",
        "\n",
        "attendees = {\"Alice\", \"Bob\", \"Charlie\"}\n",
        "attendees.add(\"sid\")\n",
        "print(attendees)"
      ],
      "metadata": {
        "colab": {
          "base_uri": "https://localhost:8080/"
        },
        "id": "STZEINofNk9W",
        "outputId": "9690deb3-41fa-474f-b010-d8d750801efc"
      },
      "execution_count": 159,
      "outputs": [
        {
          "output_type": "stream",
          "name": "stdout",
          "text": [
            "{'Alice', 'Charlie', 'sid', 'Bob'}\n"
          ]
        }
      ]
    },
    {
      "cell_type": "markdown",
      "source": [
        "# **7. Describe how to add, modify, and delete items in a dictionary with examples**\n",
        "\n",
        "Ans - Dictionaries in Python are mutable, which means you can add, modify, or delete key-value pairs.\n",
        "\n"
      ],
      "metadata": {
        "id": "BxpjY3l-ODOA"
      }
    },
    {
      "cell_type": "code",
      "source": [
        "student = {\"name\": \"Alice\", \"age\": 22}\n",
        "\n",
        "# Adding a new key-value pair\n",
        "student[\"major\"] = \"Computer Science\"\n",
        "print(student)\n",
        "# Output: {'name': 'Alice', 'age': 22, 'major': 'Computer Science'}"
      ],
      "metadata": {
        "colab": {
          "base_uri": "https://localhost:8080/"
        },
        "id": "dPVdaM0vOU6J",
        "outputId": "cf74fd4a-8e6e-4c74-f5d4-2a1403478b7e"
      },
      "execution_count": 164,
      "outputs": [
        {
          "output_type": "stream",
          "name": "stdout",
          "text": [
            "{'name': 'Alice', 'age': 22, 'major': 'Computer Science'}\n"
          ]
        }
      ]
    },
    {
      "cell_type": "code",
      "source": [
        "#Adding Multiple Items\n",
        "\n",
        "# Adding multiple items using update()\n",
        "student.update({\"grade\": \"A\", \"graduated\": False})\n",
        "print(student)"
      ],
      "metadata": {
        "colab": {
          "base_uri": "https://localhost:8080/"
        },
        "id": "VnDfeJkgObEr",
        "outputId": "11a423db-4c04-4197-b533-43438ebe3f2c"
      },
      "execution_count": 166,
      "outputs": [
        {
          "output_type": "stream",
          "name": "stdout",
          "text": [
            "{'name': 'Alice', 'age': 22, 'major': 'Computer Science', 'grade': 'A', 'graduated': False}\n"
          ]
        }
      ]
    },
    {
      "cell_type": "code",
      "source": [
        "#Modifying Items in a Dictionary\n",
        "\n",
        "# Initial dictionary\n",
        "student = {\"name\": \"Alice\", \"age\": 22, \"major\": \"Physics\"}\n",
        "\n",
        "# Modifying an existing value\n",
        "student[\"major\"] = \"Mathematics\"\n",
        "print(student)"
      ],
      "metadata": {
        "colab": {
          "base_uri": "https://localhost:8080/"
        },
        "id": "Lb3uYPm3fKd2",
        "outputId": "7da388f7-c45b-4c72-f8f4-62733d317a13"
      },
      "execution_count": 167,
      "outputs": [
        {
          "output_type": "stream",
          "name": "stdout",
          "text": [
            "{'name': 'Alice', 'age': 22, 'major': 'Mathematics'}\n"
          ]
        }
      ]
    },
    {
      "cell_type": "code",
      "source": [
        "#Deleting Items from a Dictionary\n",
        "\n",
        "student = {\"name\": \"Alice\", \"age\": 22, \"major\": \"Physics\"}\n",
        "\n",
        "del student[\"major\"]  # Deleting a key-value pair\n",
        "print(student)"
      ],
      "metadata": {
        "colab": {
          "base_uri": "https://localhost:8080/"
        },
        "id": "L2jB3ukLfYnu",
        "outputId": "07779f47-1eb5-4a75-a1fb-91c992b494cf"
      },
      "execution_count": 169,
      "outputs": [
        {
          "output_type": "stream",
          "name": "stdout",
          "text": [
            "{'name': 'Alice', 'age': 22}\n"
          ]
        }
      ]
    },
    {
      "cell_type": "code",
      "source": [],
      "metadata": {
        "id": "OYMIg5kFfev-"
      },
      "execution_count": null,
      "outputs": []
    }
  ]
}